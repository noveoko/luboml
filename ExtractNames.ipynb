{
  "nbformat": 4,
  "nbformat_minor": 0,
  "metadata": {
    "colab": {
      "provenance": []
    },
    "kernelspec": {
      "name": "python3",
      "display_name": "Python 3"
    },
    "language_info": {
      "name": "python"
    }
  },
  "cells": [
    {
      "cell_type": "code",
      "execution_count": 13,
      "metadata": {
        "id": "Ilwcb3XzWWqv"
      },
      "outputs": [],
      "source": [
        "start = \"https://data.commoncrawl.org/\""
      ]
    },
    {
      "cell_type": "code",
      "source": [
        "import sqlite3\n",
        "\n",
        "# Connect to the database (or create it if it doesn't exist)\n",
        "conn = sqlite3.connect('names_database.db')\n",
        "\n",
        "# Create a cursor object\n",
        "cursor = conn.cursor()\n",
        "\n",
        "# Create the table\n",
        "cursor.execute('''\n",
        "  CREATE TABLE IF NOT EXISTS names (\n",
        "    name TEXT PRIMARY KEY,\n",
        "    hits INTEGER DEFAULT 1\n",
        "  )\n",
        "''')\n",
        "\n",
        "# Commit the changes and close the connection\n",
        "conn.commit()\n",
        "conn.close()"
      ],
      "metadata": {
        "id": "YFYCFQwia2JQ"
      },
      "execution_count": 26,
      "outputs": []
    },
    {
      "cell_type": "code",
      "source": [
        "import requests\n",
        "import re"
      ],
      "metadata": {
        "id": "6XWUnSV2WjIq"
      },
      "execution_count": 14,
      "outputs": []
    },
    {
      "cell_type": "code",
      "source": [
        "!zcat warc.paths.gz > urls_to_fetch.txt"
      ],
      "metadata": {
        "id": "nDpnzyagWrEm"
      },
      "execution_count": 15,
      "outputs": []
    },
    {
      "cell_type": "code",
      "source": [
        "import requests\n",
        "\n",
        "def warc_paths():\n",
        "  with open('urls_to_fetch.txt', 'r') as f:\n",
        "    for line in f:\n",
        "      url = line.strip()\n",
        "      yield url\n",
        "\n",
        "def fetch_and_save(url, filename):\n",
        "  print(f\"Fetching {url} and saving to {filename}\")\n",
        "  response = requests.get(url)\n",
        "  if response.status_code == 200:\n",
        "    response.raise_for_status()\n",
        "    with open(filename, 'wb') as f:\n",
        "      f.write(response.content)\n",
        "\n",
        "\n",
        "for count, path in enumerate(warc_paths()):\n",
        "  fetch_and_save(start + path, f\"/content/temp/{count}.warc.gz\")\n",
        "  break"
      ],
      "metadata": {
        "colab": {
          "base_uri": "https://localhost:8080/"
        },
        "id": "oQgObO3oYQ0J",
        "outputId": "ea2fe03b-ef0f-450f-acf1-161703cf333d"
      },
      "execution_count": 23,
      "outputs": [
        {
          "output_type": "stream",
          "name": "stdout",
          "text": [
            "Fetching https://data.commoncrawl.org/crawl-data/CC-MAIN-2013-20/segments/1368696381249/warc/CC-MAIN-20130516092621-00000-ip-10-60-113-184.ec2.internal.warc.gz and saving to /content/temp/0.warc.gz\n"
          ]
        }
      ]
    },
    {
      "cell_type": "code",
      "source": [
        "import re\n",
        "import gzip\n",
        "import os\n",
        "from tqdm import tqdm\n",
        "from time import time\n",
        "import multiprocessing\n",
        "\n",
        "regex = r\"^[A-Z][a-z]+(ski|sky|ska)$\"\n",
        "names = re.compile(regex)\n",
        "\n",
        "def process_line(line):\n",
        "  match = names.search(line)\n",
        "  if match:\n",
        "    return match.group(0)\n",
        "  else:\n",
        "    return None\n",
        "\n",
        "def find_matches_in_warc(warc_path):\n",
        "  start = time()\n",
        "  matches = []\n",
        "  total_size = 0\n",
        "\n",
        "  with gzip.open(warc_path, 'rt', encoding='utf-8', errors='replace') as f:\n",
        "    with multiprocessing.Pool() as pool:\n",
        "      results = list(tqdm(pool.imap(process_line, f), total=os.path.getsize(warc_path), desc=\"Processing lines\"))\n",
        "    matches = [match for match in results if match is not None]\n",
        "    total_size = os.path.getsize(warc_path)\n",
        "\n",
        "  end = time()\n",
        "  search_time = end - start\n",
        "\n",
        "  if matches:\n",
        "    seconds_per_name = search_time / len(matches)\n",
        "  else:\n",
        "    seconds_per_name = 0\n",
        "\n",
        "  print(f\"Search time: {search_time}\")\n",
        "  print(f\"Matches found: {len(matches)}\")\n",
        "  print(f\"Seconds per name: {seconds_per_name}\")\n",
        "  print(f\"Total data searched: {total_size} bytes\")\n",
        "\n",
        "  return matches\n",
        "\n",
        "def find_matches_in_temp():\n",
        "  all_matches = []\n",
        "  for filename in os.listdir('/content/temp'):\n",
        "    if filename.endswith('.warc.gz'):\n",
        "      filepath = os.path.join('/content/temp', filename)\n",
        "      matches = find_matches_in_warc(filepath)\n",
        "      all_matches.extend(matches)\n",
        "  return all_matches"
      ],
      "metadata": {
        "id": "ZMgUnou9YS-3"
      },
      "execution_count": 46,
      "outputs": []
    },
    {
      "cell_type": "code",
      "source": [
        "# Example usage\n",
        "all_matches = find_matches_in_temp()"
      ],
      "metadata": {
        "colab": {
          "base_uri": "https://localhost:8080/"
        },
        "id": "41Pholuzd77e",
        "outputId": "6f327bf9-b712-4ef0-9abe-4f7297dd2c27"
      },
      "execution_count": null,
      "outputs": [
        {
          "output_type": "stream",
          "name": "stderr",
          "text": [
            "Processing lines:   0%|          | 383154/783739200 [00:35<29:38:51, 7339.52it/s]"
          ]
        }
      ]
    },
    {
      "cell_type": "code",
      "source": [
        "import sqlite3\n",
        "\n",
        "def update_names_database(names):\n",
        "  conn = sqlite3.connect('names_database.db')\n",
        "  cursor = conn.cursor()\n",
        "\n",
        "  for name in names:\n",
        "    # Check if the name already exists\n",
        "    cursor.execute(\"SELECT * FROM names WHERE name=?\", (name,))\n",
        "    existing_entry = cursor.fetchone()\n",
        "\n",
        "    if existing_entry:\n",
        "      # Update the hits count\n",
        "      new_hits = existing_entry[1] + 1\n",
        "      cursor.execute(\"UPDATE names SET hits=? WHERE name=?\", (new_hits, name))\n",
        "    else:\n",
        "      # Insert a new entry\n",
        "      cursor.execute(\"INSERT INTO names (name) VALUES (?)\", (name,))\n",
        "\n",
        "  conn.commit()\n",
        "  conn.close()"
      ],
      "metadata": {
        "id": "fzJjLxghaLTM"
      },
      "execution_count": 31,
      "outputs": []
    },
    {
      "cell_type": "code",
      "source": [
        "update_names_database(all_matches)"
      ],
      "metadata": {
        "id": "-EFgZYJ1cY79"
      },
      "execution_count": 32,
      "outputs": []
    },
    {
      "cell_type": "code",
      "source": [
        "import sqlite3\n",
        "\n",
        "def get_name_data(name):\n",
        "  conn = sqlite3.connect('names_database.db')\n",
        "  cursor = conn.cursor()\n",
        "\n",
        "  cursor.execute(\"SELECT * FROM names WHERE name=?\", (name,))\n",
        "  name_data = cursor.fetchone()\n",
        "\n",
        "  conn.close()\n",
        "\n",
        "  if name_data:\n",
        "    return name_data\n",
        "  else:\n",
        "    return \"Name not found!\""
      ],
      "metadata": {
        "id": "ZAMlF8sKcbTF"
      },
      "execution_count": 33,
      "outputs": []
    },
    {
      "cell_type": "code",
      "source": [
        "import sqlite3\n",
        "import random\n",
        "\n",
        "def get_random_names(count):\n",
        "  conn = sqlite3.connect('names_database.db')\n",
        "  cursor = conn.cursor()\n",
        "\n",
        "  cursor.execute(\"SELECT name, hits FROM names ORDER BY RANDOM() LIMIT ?\", (count,))\n",
        "  random_names = cursor.fetchall()\n",
        "\n",
        "  conn.close()\n",
        "\n",
        "  return random_names"
      ],
      "metadata": {
        "id": "ZGPShpjDc5gX"
      },
      "execution_count": 38,
      "outputs": []
    },
    {
      "cell_type": "code",
      "source": [
        "get_name_data('Latviski')"
      ],
      "metadata": {
        "colab": {
          "base_uri": "https://localhost:8080/"
        },
        "id": "ldzv9624clUp",
        "outputId": "18856990-25e8-4be6-b83f-10d42613765c"
      },
      "execution_count": 42,
      "outputs": [
        {
          "output_type": "execute_result",
          "data": {
            "text/plain": [
              "('Latviski', 5)"
            ]
          },
          "metadata": {},
          "execution_count": 42
        }
      ]
    },
    {
      "cell_type": "code",
      "source": [
        "get_random_names(10)"
      ],
      "metadata": {
        "colab": {
          "base_uri": "https://localhost:8080/"
        },
        "id": "Ucjyrr4TcnQQ",
        "outputId": "8990ea10-a63c-4824-dd57-3604694a8613"
      },
      "execution_count": 41,
      "outputs": [
        {
          "output_type": "execute_result",
          "data": {
            "text/plain": [
              "[('Polanski', 1),\n",
              " ('Nebraska', 5),\n",
              " ('Hrvatski', 10),\n",
              " ('Srpski', 5),\n",
              " ('Slovenski', 5),\n",
              " ('Svenska', 10),\n",
              " ('Franziska', 1),\n",
              " ('Polski', 10),\n",
              " ('Chomsky', 1),\n",
              " ('Latviski', 5)]"
            ]
          },
          "metadata": {},
          "execution_count": 41
        }
      ]
    },
    {
      "cell_type": "code",
      "source": [],
      "metadata": {
        "id": "ChhjxEw4c8Ed"
      },
      "execution_count": null,
      "outputs": []
    }
  ]
}